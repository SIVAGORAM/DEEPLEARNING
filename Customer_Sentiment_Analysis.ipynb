{
  "nbformat": 4,
  "nbformat_minor": 0,
  "metadata": {
    "colab": {
      "provenance": [],
      "authorship_tag": "ABX9TyPybyF+qoeS4uyEqjo2TEkx",
      "include_colab_link": true
    },
    "kernelspec": {
      "name": "python3",
      "display_name": "Python 3"
    },
    "language_info": {
      "name": "python"
    }
  },
  "cells": [
    {
      "cell_type": "markdown",
      "metadata": {
        "id": "view-in-github",
        "colab_type": "text"
      },
      "source": [
        "<a href=\"https://colab.research.google.com/github/SIVAGORAM/DEEPLEARNING/blob/main/Customer_Sentiment_Analysis.ipynb\" target=\"_parent\"><img src=\"https://colab.research.google.com/assets/colab-badge.svg\" alt=\"Open In Colab\"/></a>"
      ]
    },
    {
      "cell_type": "code",
      "execution_count": null,
      "metadata": {
        "colab": {
          "base_uri": "https://localhost:8080/"
        },
        "id": "Ve5s_SuG0AuO",
        "outputId": "580bf141-570a-4553-9536-b2a132f95439"
      },
      "outputs": [
        {
          "output_type": "stream",
          "name": "stderr",
          "text": [
            "[nltk_data] Downloading package punkt to /root/nltk_data...\n",
            "[nltk_data]   Unzipping tokenizers/punkt.zip.\n"
          ]
        },
        {
          "output_type": "stream",
          "name": "stdout",
          "text": [
            "Customer Review: This is the worst product!\n",
            "Sentiment: Negative\n",
            "Sentiment Polarity: -1.0\n",
            "Sentiment Subjectivity: 1.0\n"
          ]
        },
        {
          "output_type": "stream",
          "name": "stderr",
          "text": [
            "[nltk_data] Downloading package averaged_perceptron_tagger to\n",
            "[nltk_data]     /root/nltk_data...\n",
            "[nltk_data]   Unzipping taggers/averaged_perceptron_tagger.zip.\n"
          ]
        }
      ],
      "source": [
        "\n",
        "import nltk\n",
        "from textblob import TextBlob\n",
        "nltk.download('punkt')\n",
        "nltk.download('averaged_perceptron_tagger')\n",
        "from textblob import TextBlob\n",
        "def analyze_sentiment(text):\n",
        "    blob = TextBlob(text)\n",
        "    sentiment_polarity = blob.sentiment.polarity\n",
        "    sentiment_subjectivity = blob.sentiment.subjectivity\n",
        "    if sentiment_polarity > 0:\n",
        "        sentiment_label = 'Positive'\n",
        "    elif sentiment_polarity < 0:\n",
        "        sentiment_label = 'Negative'\n",
        "    else:\n",
        "        sentiment_label = 'Neutral'\n",
        "\n",
        "    return sentiment_label, sentiment_polarity, sentiment_subjectivity\n",
        "customer_review = \"This is the worst product!\"\n",
        "sentiment_label, sentiment_polarity, sentiment_subjectivity = analyze_sentiment(customer_review)\n",
        "print(f'Customer Review: {customer_review}')\n",
        "print(f'Sentiment: {sentiment_label}')\n",
        "print(f'Sentiment Polarity: {sentiment_polarity}')\n",
        "print(f'Sentiment Subjectivity: {sentiment_subjectivity}')\n"
      ]
    }
  ]
}