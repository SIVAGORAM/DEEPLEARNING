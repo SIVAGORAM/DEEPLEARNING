{
  "nbformat": 4,
  "nbformat_minor": 0,
  "metadata": {
    "colab": {
      "provenance": [],
      "authorship_tag": "ABX9TyO3NyriWIWQcNT9A7Eyhida",
      "include_colab_link": true
    },
    "kernelspec": {
      "name": "python3",
      "display_name": "Python 3"
    },
    "language_info": {
      "name": "python"
    }
  },
  "cells": [
    {
      "cell_type": "markdown",
      "metadata": {
        "id": "view-in-github",
        "colab_type": "text"
      },
      "source": [
        "<a href=\"https://colab.research.google.com/github/SIVAGORAM/DEEPLEARNING/blob/main/Customer_churn.ipynb\" target=\"_parent\"><img src=\"https://colab.research.google.com/assets/colab-badge.svg\" alt=\"Open In Colab\"/></a>"
      ]
    },
    {
      "cell_type": "code",
      "execution_count": null,
      "metadata": {
        "colab": {
          "base_uri": "https://localhost:8080/"
        },
        "id": "Bw0e55ExzuKm",
        "outputId": "acaf9ad4-deb3-4b3f-e666-75077cf3d024"
      },
      "outputs": [
        {
          "output_type": "stream",
          "name": "stdout",
          "text": [
            "Accuracy: 0.81\n",
            "Classification Report:\n",
            "               precision    recall  f1-score   support\n",
            "\n",
            "           0       0.82      0.97      0.89       163\n",
            "           1       0.38      0.08      0.13        37\n",
            "\n",
            "    accuracy                           0.81       200\n",
            "   macro avg       0.60      0.53      0.51       200\n",
            "weighted avg       0.74      0.81      0.75       200\n",
            "\n",
            "Accuracy: 0.81\n",
            "\n",
            "Classification Report:\n",
            "              precision    recall  f1-score   support\n",
            "\n",
            "           0       0.82      0.97      0.89       163\n",
            "           1       0.38      0.08      0.13        37\n",
            "\n",
            "    accuracy                           0.81       200\n",
            "   macro avg       0.60      0.53      0.51       200\n",
            "weighted avg       0.74      0.81      0.75       200\n",
            "\n"
          ]
        }
      ],
      "source": [
        "#EXP:-03\n",
        "#9921005015\n",
        "import numpy as np\n",
        "import pandas as pd\n",
        "from sklearn.model_selection import train_test_split\n",
        "from sklearn.ensemble import RandomForestClassifier\n",
        "from sklearn.metrics import accuracy_score, classification_report\n",
        "np.random.seed(42)\n",
        "data_size = 1000\n",
        "X = pd.DataFrame({\n",
        "    'Age': np.random.randint(18, 65, data_size),\n",
        "    'MonthlySpend': np.random.uniform(20, 200, data_size),\n",
        "    'ContractLength': np.random.randint(1, 24, data_size),\n",
        "    'CustomerSatisfaction': np.random.randint(1, 5, data_size),\n",
        "})\n",
        "X['Churn'] = np.random.choice([0, 1], data_size, p=[0.8, 0.2])\n",
        "X_train, X_test, y_train, y_test = train_test_split(\n",
        "    X.drop('Churn', axis=1), X['Churn'], test_size=0.2, random_state=42\n",
        ")\n",
        "rf_classifier = RandomForestClassifier(random_state=42)\n",
        "rf_classifier.fit(X_train, y_train)\n",
        "y_pred = rf_classifier.predict(X_test)\n",
        "accuracy = accuracy_score(y_test, y_pred)\n",
        "classification_report_result = classification_report(y_test, y_pred)\n",
        "print(f\"Accuracy: {accuracy:.2f}\")\n",
        "print(\"Classification Report:\\n\", classification_report_result)\n",
        "clf = RandomForestClassifier(random_state=42)\n",
        "clf.fit(X_train, y_train)\n",
        "y_pred = clf.predict(X_test)\n",
        "accuracy = accuracy_score(y_test, y_pred)\n",
        "print(f\"Accuracy: {accuracy:.2f}\")\n",
        "print(\"\\nClassification Report:\")\n",
        "print(classification_report(y_test, y_pred))\n"
      ]
    }
  ]
}